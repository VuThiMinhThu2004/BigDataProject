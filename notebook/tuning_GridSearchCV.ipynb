{
 "cells": [
  {
   "cell_type": "code",
   "execution_count": 1,
   "id": "7c8896b3",
   "metadata": {},
   "outputs": [
    {
     "name": "stdout",
     "output_type": "stream",
     "text": [
      "\u001b[33mWARNING: Running pip as the 'root' user can result in broken permissions and conflicting behaviour with the system package manager, possibly rendering your system unusable. It is recommended to use a virtual environment instead: https://pip.pypa.io/warnings/venv. Use the --root-user-action option if you know what you are doing and want to suppress this warning.\u001b[0m\u001b[33m\n",
      "\u001b[0mNote: you may need to restart the kernel to use updated packages.\n"
     ]
    }
   ],
   "source": [
    "# !pip show scikit-learn\n",
    "%pip -q install xgboost==1.7.6 scikit-learn==1.3.2\n",
    "\n",
    "\n",
    "import pandas as pd\n",
    "import numpy as np\n",
    "from sklearn.model_selection import train_test_split, GridSearchCV\n",
    "from sklearn.preprocessing import LabelEncoder\n",
    "from sklearn.metrics import accuracy_score, roc_auc_score, log_loss\n",
    "from xgboost import XGBClassifier\n",
    "import mlflow\n",
    "import mlflow.sklearn\n",
    "import os"
   ]
  },
  {
   "cell_type": "code",
   "execution_count": 2,
   "id": "bf4b9d0e",
   "metadata": {},
   "outputs": [],
   "source": [
    "# --- Data Loading and Preprocessing ---\n",
    "def load_and_preprocess_data(file_path=\"train_small.csv\"):\n",
    "    data = pd.read_csv(file_path)\n",
    "\n",
    "    # Feature Engineering\n",
    "    data[\"event_time\"] = pd.to_datetime(data[\"event_time\"])\n",
    "    data[\"event_weekday\"] = data[\"event_time\"].dt.dayofweek\n",
    "    data[[\"category_code_level1\", \"category_code_level2\"]] = (\n",
    "        data[\"category_code\"].str.split(\".\", n=1, expand=True)\n",
    "    )\n",
    "    data[\"is_purchased\"] = np.random.randint(0, 2, size=len(data))\n",
    "    data[\"activity_count\"] = np.random.randint(1, 10, size=len(data))\n",
    "\n",
    "    # Fill missing\n",
    "    for col in [\"brand\", \"event_weekday\", \"category_code_level1\", \"category_code_level2\"]:\n",
    "        data[col] = data[col].fillna(\"unknown\")\n",
    "    data[\"price\"] = data[\"price\"].fillna(data[\"price\"].median())\n",
    "\n",
    "    # Label Encoding\n",
    "    for col in [\"brand\", \"event_weekday\", \"category_code_level1\", \"category_code_level2\"]:\n",
    "        le = LabelEncoder()\n",
    "        data[col] = le.fit_transform(data[col])\n",
    "\n",
    "    # Select features\n",
    "    data = data[[\"brand\", \"price\", \"event_weekday\", \"category_code_level1\", \n",
    "                 \"category_code_level2\", \"activity_count\", \"is_purchased\"]].copy()\n",
    "    return data"
   ]
  },
  {
   "cell_type": "code",
   "execution_count": null,
   "id": "4411d387",
   "metadata": {},
   "outputs": [],
   "source": [
    "# --- GridSearch + MLflow ---\n",
    "def grid_search_with_mlflow(data):\n",
    "    X = data.drop(\"is_purchased\", axis=1)\n",
    "    y = data[\"is_purchased\"]\n",
    "    X_train, X_test, y_train, y_test = train_test_split(X, y, test_size=0.2, random_state=42)\n",
    "\n",
    "    param_grid = {\n",
    "        \"max_depth\": [3, 4, 5],\n",
    "        \"learning_rate\": [0.05, 0.1],\n",
    "        \"subsample\": [0.8, 1.0],\n",
    "        \"n_estimators\": [50, 100]\n",
    "    }\n",
    "\n",
    "    xgb_clf = XGBClassifier(use_label_encoder=False, eval_metric=\"logloss\", verbosity=0)\n",
    "\n",
    "    grid_search = GridSearchCV(\n",
    "        estimator=xgb_clf,\n",
    "        param_grid=param_grid,\n",
    "        scoring=\"accuracy\",\n",
    "        cv=3,\n",
    "        verbose=1,\n",
    "        n_jobs=-1,\n",
    "        return_train_score=True,\n",
    "    )\n",
    "\n",
    "    grid_search.fit(X_train, y_train)\n",
    "\n",
    "    # Log best model to MLflow\n",
    "    best_model = grid_search.best_estimator_\n",
    "    y_pred = best_model.predict(X_test)\n",
    "    y_proba = best_model.predict_proba(X_test)[:, 1]\n",
    "\n",
    "    acc = accuracy_score(y_test, y_pred)\n",
    "    auc = roc_auc_score(y_test, y_proba)\n",
    "    logloss = log_loss(y_test, y_proba)\n",
    "\n",
    "    with mlflow.start_run(run_name=\"grid_search_xgb\"):\n",
    "        mlflow.log_params(grid_search.best_params_)\n",
    "        mlflow.log_metric(\"accuracy\", acc)\n",
    "        mlflow.log_metric(\"auc\", auc)\n",
    "        mlflow.log_metric(\"logloss\", logloss)\n",
    "\n",
    "        import mlflow\n",
    "        import mlflow.sklearn\n",
    "        import mlflow.models\n",
    "\n",
    "\n",
    "        mlflow.sklearn.log_model(\n",
    "            sk_model=best_model,\n",
    "            artifact_path=\"xgb_grid_model\",\n",
    "            input_example=X_test.head(1),\n",
    "            signature=mlflow.models.infer_signature(X_test, y_pred)\n",
    "        )\n",
    "        print(f\"✅ Best model logged with accuracy: {acc:.4f} | AUC: {auc:.4f}\")\n"
   ]
  },
  {
   "cell_type": "code",
   "execution_count": 4,
   "id": "2eb687fa",
   "metadata": {},
   "outputs": [
    {
     "name": "stderr",
     "output_type": "stream",
     "text": [
      "2025/04/18 08:58:39 INFO mlflow.tracking.fluent: Experiment with name 'xgboost_grid_search' does not exist. Creating a new experiment.\n"
     ]
    }
   ],
   "source": [
    "# --- Setup and Run ---\n",
    "mlflow.set_tracking_uri(\"http://10.200.2.51:5000\")  # MLflow server\n",
    "try:\n",
    "    mlflow.set_experiment(\"xgboost_grid_search\")\n",
    "except:\n",
    "    mlflow.set_experiment(\"local_xgboost_grid\")\n"
   ]
  },
  {
   "cell_type": "code",
   "execution_count": 5,
   "id": "8faf2509",
   "metadata": {},
   "outputs": [],
   "source": [
    "data = load_and_preprocess_data()"
   ]
  },
  {
   "cell_type": "code",
   "execution_count": 8,
   "id": "b057cae3",
   "metadata": {},
   "outputs": [
    {
     "name": "stdout",
     "output_type": "stream",
     "text": [
      "Fitting 3 folds for each of 24 candidates, totalling 72 fits\n"
     ]
    },
    {
     "name": "stderr",
     "output_type": "stream",
     "text": [
      "/root/miniconda3/envs/py3920/lib/python3.9/site-packages/xgboost/sklearn.py:1395: UserWarning: `use_label_encoder` is deprecated in 1.7.0.\n",
      "  warnings.warn(\"`use_label_encoder` is deprecated in 1.7.0.\")\n",
      "/root/miniconda3/envs/py3920/lib/python3.9/site-packages/xgboost/sklearn.py:1395: UserWarning: `use_label_encoder` is deprecated in 1.7.0.\n",
      "  warnings.warn(\"`use_label_encoder` is deprecated in 1.7.0.\")\n",
      "/root/miniconda3/envs/py3920/lib/python3.9/site-packages/xgboost/sklearn.py:1395: UserWarning: `use_label_encoder` is deprecated in 1.7.0.\n",
      "  warnings.warn(\"`use_label_encoder` is deprecated in 1.7.0.\")\n"
     ]
    },
    {
     "ename": "UnboundLocalError",
     "evalue": "local variable 'mlflow' referenced before assignment",
     "output_type": "error",
     "traceback": [
      "\u001b[0;31m---------------------------------------------------------------------------\u001b[0m",
      "\u001b[0;31mUnboundLocalError\u001b[0m                         Traceback (most recent call last)",
      "Cell \u001b[0;32mIn[8], line 1\u001b[0m\n\u001b[0;32m----> 1\u001b[0m \u001b[43mgrid_search_with_mlflow\u001b[49m\u001b[43m(\u001b[49m\u001b[43mdata\u001b[49m\u001b[43m)\u001b[49m\n",
      "Cell \u001b[0;32mIn[7], line 37\u001b[0m, in \u001b[0;36mgrid_search_with_mlflow\u001b[0;34m(data)\u001b[0m\n\u001b[1;32m     34\u001b[0m auc \u001b[38;5;241m=\u001b[39m roc_auc_score(y_test, y_proba)\n\u001b[1;32m     35\u001b[0m logloss \u001b[38;5;241m=\u001b[39m log_loss(y_test, y_proba)\n\u001b[0;32m---> 37\u001b[0m \u001b[38;5;28;01mwith\u001b[39;00m \u001b[43mmlflow\u001b[49m\u001b[38;5;241m.\u001b[39mstart_run(run_name\u001b[38;5;241m=\u001b[39m\u001b[38;5;124m\"\u001b[39m\u001b[38;5;124mgrid_search_xgb\u001b[39m\u001b[38;5;124m\"\u001b[39m):\n\u001b[1;32m     38\u001b[0m     mlflow\u001b[38;5;241m.\u001b[39mlog_params(grid_search\u001b[38;5;241m.\u001b[39mbest_params_)\n\u001b[1;32m     39\u001b[0m     mlflow\u001b[38;5;241m.\u001b[39mlog_metric(\u001b[38;5;124m\"\u001b[39m\u001b[38;5;124maccuracy\u001b[39m\u001b[38;5;124m\"\u001b[39m, acc)\n",
      "\u001b[0;31mUnboundLocalError\u001b[0m: local variable 'mlflow' referenced before assignment"
     ]
    }
   ],
   "source": [
    "grid_search_with_mlflow(data)"
   ]
  },
  {
   "cell_type": "code",
   "execution_count": null,
   "id": "df7f9a09",
   "metadata": {},
   "outputs": [],
   "source": []
  }
 ],
 "metadata": {
  "kernelspec": {
   "display_name": "py3920",
   "language": "python",
   "name": "python3"
  },
  "language_info": {
   "codemirror_mode": {
    "name": "ipython",
    "version": 3
   },
   "file_extension": ".py",
   "mimetype": "text/x-python",
   "name": "python",
   "nbconvert_exporter": "python",
   "pygments_lexer": "ipython3",
   "version": "3.9.20"
  }
 },
 "nbformat": 4,
 "nbformat_minor": 5
}
