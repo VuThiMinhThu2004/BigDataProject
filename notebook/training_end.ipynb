{
 "cells": [
  {
   "cell_type": "code",
   "execution_count": 14,
   "id": "96b0a89d",
   "metadata": {},
   "outputs": [
    {
     "name": "stdout",
     "output_type": "stream",
     "text": [
      "\u001b[33mWARNING: Running pip as the 'root' user can result in broken permissions and conflicting behaviour with the system package manager. It is recommended to use a virtual environment instead: https://pip.pypa.io/warnings/venv\u001b[0m\u001b[33m\n",
      "\u001b[0m"
     ]
    }
   ],
   "source": [
    "!pip -q install pendulum"
   ]
  },
  {
   "cell_type": "code",
   "execution_count": 15,
   "id": "43d2e301",
   "metadata": {},
   "outputs": [],
   "source": [
    "import pandas as pd\n",
    "import numpy as np\n",
    "from sklearn.model_selection import train_test_split\n",
    "from sklearn.preprocessing import LabelEncoder\n",
    "import xgboost as xgb\n",
    "import mlflow\n",
    "import os\n",
    "from datetime import timedelta\n",
    "import pendulum"
   ]
  },
  {
   "cell_type": "code",
   "execution_count": 16,
   "id": "65f2a83b",
   "metadata": {},
   "outputs": [],
   "source": [
    "def load_and_preprocess_data(file_path=\"train_clean_small.csv\"):\n",
    "    data = pd.read_csv(file_path)\n",
    "\n",
    "    # Check if required columns exist\n",
    "    required_columns = [\"event_time\", \"category_code\", \"price\", \"brand\"]\n",
    "    for col in required_columns:\n",
    "        if col not in data.columns:\n",
    "            raise KeyError(f\"Missing required column: {col}\")\n",
    "\n",
    "    # Feature Engineering & Transformations\n",
    "    data[\"event_time\"] = pd.to_datetime(data[\"event_time\"])\n",
    "    data[\"event_weekday\"] = data[\"event_time\"].dt.dayofweek\n",
    "    data[[\"category_code_level1\", \"category_code_level2\"]] = (\n",
    "        data[\"category_code\"].str.split(\".\", n=1, expand=True)\n",
    "    )\n",
    "    data[\"is_purchased\"] = np.random.randint(0, 2, size=len(data))  # Replace with actual target\n",
    "    data[\"activity_count\"] = np.random.randint(1, 10, size=len(data))  # Example feature\n",
    "\n",
    "    # Fill missing values\n",
    "    for col in [\"brand\", \"event_weekday\", \"category_code_level1\", \"category_code_level2\"]:\n",
    "        if col in data.columns:\n",
    "            data[col] = data[col].fillna(\"unknown\")\n",
    "    data[\"price\"] = data[\"price\"].fillna(data[\"price\"].median())\n",
    "\n",
    "    # Label Encoding\n",
    "    label_encoders = {}\n",
    "    for col in [\"brand\", \"event_weekday\", \"category_code_level1\", \"category_code_level2\"]:\n",
    "        if col in data.columns:\n",
    "            le = LabelEncoder()\n",
    "            data[col] = le.fit_transform(data[col])\n",
    "            label_encoders[col] = le\n",
    "            print(f\"Categories in {col}: {le.classes_}\")\n",
    "\n",
    "    # Select Features\n",
    "    data = data[[\"brand\", \"price\", \"event_weekday\", \"category_code_level1\", \n",
    "                 \"category_code_level2\", \"activity_count\", \"is_purchased\"]].copy()\n",
    "\n",
    "    return data, label_encoders"
   ]
  },
  {
   "cell_type": "code",
   "execution_count": 17,
   "id": "baaf8eb1",
   "metadata": {},
   "outputs": [],
   "source": [
    "# --- Model Training ---\n",
    "def train_model(data):\n",
    "    \"\"\"Train an XGBoost model, save checkpoint, and log to MLflow.\"\"\"\n",
    "\n",
    "    # Separate features and target\n",
    "    X = data.drop(\"is_purchased\", axis=1)\n",
    "    y = data[\"is_purchased\"]\n",
    "\n",
    "    # Split data\n",
    "    X_train, X_test, y_train, y_test = train_test_split(X, y, test_size=0.2, random_state=42)\n",
    "\n",
    "    # Prepare DMatrix for XGBoost\n",
    "    dtrain = xgb.DMatrix(X_train, label=y_train)\n",
    "    dtest = xgb.DMatrix(X_test, label=y_test)\n",
    "\n",
    "    # Set parameters for training\n",
    "    params = {\n",
    "        \"objective\": \"binary:logistic\",\n",
    "        \"eval_metric\": [\"logloss\", \"error\", \"rmse\", \"mae\", \"auc\"]\n",
    "    }\n",
    "\n",
    "    # Train the model with early stopping and capture evaluation results\n",
    "    evals = [(dtest, \"eval\"), (dtrain, \"train\")]\n",
    "    evals_result = {}  # Dictionary to store evaluation metrics\n",
    "    model = xgb.train(params, dtrain, num_boost_round=100, evals=evals, \n",
    "                      early_stopping_rounds=5, verbose_eval=True, evals_result=evals_result)\n",
    "\n",
    "    # Save model checkpoint to /thu/checkpoint\n",
    "    checkpoint_dir = \"model-checkpoints/final-model/xgb_model\"\n",
    "    os.makedirs(checkpoint_dir, exist_ok=True)\n",
    "    checkpoint_path = os.path.join(checkpoint_dir, \"xgboost_model.ubj\")\n",
    "    model.save_model(checkpoint_path)\n",
    "    print(f\"Model checkpoint saved to {checkpoint_path}\")\n",
    "\n",
    "    # Evaluate the model on the test set\n",
    "    y_pred_proba = model.predict(dtest)\n",
    "    y_pred = (y_pred_proba > 0.5).astype(int)\n",
    "    accuracy = np.mean(y_pred == y_test)\n",
    "\n",
    "    # Start MLflow run for tracking\n",
    "    try:\n",
    "        with mlflow.start_run(run_name=\"model_training\"):\n",
    "            # Log hyperparameters\n",
    "            mlflow.log_params({\n",
    "                \"objective\": \"binary:logistic\",\n",
    "                \"eval_metric\": [\"logloss\", \"error\", \"rmse\", \"mae\", \"auc\"],\n",
    "                \"num_boost_round\": 100,\n",
    "                \"early_stopping_rounds\": 10\n",
    "            })\n",
    "\n",
    "            # Log evaluation metrics for each boosting round\n",
    "            for metric in params[\"eval_metric\"]:\n",
    "                for dataset in [\"eval\", \"train\"]:\n",
    "                    metric_name = f\"{dataset}-{metric}\"\n",
    "                    metric_values = evals_result[dataset][metric]\n",
    "                    for step, value in enumerate(metric_values):\n",
    "                        mlflow.log_metric(metric_name, value, step=step)\n",
    "\n",
    "            # Log accuracy\n",
    "            mlflow.log_metric(\"accuracy\", accuracy)\n",
    "            print(f\"Metric logged: accuracy = {accuracy}\")\n",
    "\n",
    "    except Exception as e:\n",
    "        print(f\"MLflow logging failed: {e}\")\n",
    "        print(\"Model training completed, but metrics may not have been logged.\")\n",
    "\n",
    "    print(f\"Model training completed with accuracy: {accuracy}\")"
   ]
  },
  {
   "cell_type": "code",
   "execution_count": 18,
   "id": "2fb16034",
   "metadata": {},
   "outputs": [
    {
     "ename": "KeyError",
     "evalue": "'Missing required column: event_time'",
     "output_type": "error",
     "traceback": [
      "\u001b[0;31m---------------------------------------------------------------------------\u001b[0m",
      "\u001b[0;31mKeyError\u001b[0m                                  Traceback (most recent call last)",
      "\u001b[0;32m/tmp/ipykernel_2017137/3698227814.py\u001b[0m in \u001b[0;36m<module>\u001b[0;34m\u001b[0m\n\u001b[1;32m     10\u001b[0m \u001b[0;34m\u001b[0m\u001b[0m\n\u001b[1;32m     11\u001b[0m \u001b[0;31m# Load and preprocess data\u001b[0m\u001b[0;34m\u001b[0m\u001b[0;34m\u001b[0m\u001b[0;34m\u001b[0m\u001b[0m\n\u001b[0;32m---> 12\u001b[0;31m \u001b[0mdata\u001b[0m\u001b[0;34m,\u001b[0m \u001b[0mlabel_encoders\u001b[0m \u001b[0;34m=\u001b[0m \u001b[0mload_and_preprocess_data\u001b[0m\u001b[0;34m(\u001b[0m\u001b[0;34m)\u001b[0m\u001b[0;34m\u001b[0m\u001b[0;34m\u001b[0m\u001b[0m\n\u001b[0m\u001b[1;32m     13\u001b[0m \u001b[0mprint\u001b[0m\u001b[0;34m(\u001b[0m\u001b[0;34m\"Data loaded and preprocessed successfully.\"\u001b[0m\u001b[0;34m)\u001b[0m\u001b[0;34m\u001b[0m\u001b[0;34m\u001b[0m\u001b[0m\n\u001b[1;32m     14\u001b[0m \u001b[0;34m\u001b[0m\u001b[0m\n",
      "\u001b[0;32m/tmp/ipykernel_2017137/805697135.py\u001b[0m in \u001b[0;36mload_and_preprocess_data\u001b[0;34m(file_path)\u001b[0m\n\u001b[1;32m      6\u001b[0m     \u001b[0;32mfor\u001b[0m \u001b[0mcol\u001b[0m \u001b[0;32min\u001b[0m \u001b[0mrequired_columns\u001b[0m\u001b[0;34m:\u001b[0m\u001b[0;34m\u001b[0m\u001b[0;34m\u001b[0m\u001b[0m\n\u001b[1;32m      7\u001b[0m         \u001b[0;32mif\u001b[0m \u001b[0mcol\u001b[0m \u001b[0;32mnot\u001b[0m \u001b[0;32min\u001b[0m \u001b[0mdata\u001b[0m\u001b[0;34m.\u001b[0m\u001b[0mcolumns\u001b[0m\u001b[0;34m:\u001b[0m\u001b[0;34m\u001b[0m\u001b[0;34m\u001b[0m\u001b[0m\n\u001b[0;32m----> 8\u001b[0;31m             \u001b[0;32mraise\u001b[0m \u001b[0mKeyError\u001b[0m\u001b[0;34m(\u001b[0m\u001b[0;34mf\"Missing required column: {col}\"\u001b[0m\u001b[0;34m)\u001b[0m\u001b[0;34m\u001b[0m\u001b[0;34m\u001b[0m\u001b[0m\n\u001b[0m\u001b[1;32m      9\u001b[0m \u001b[0;34m\u001b[0m\u001b[0m\n\u001b[1;32m     10\u001b[0m     \u001b[0;31m# Feature Engineering & Transformations\u001b[0m\u001b[0;34m\u001b[0m\u001b[0;34m\u001b[0m\u001b[0;34m\u001b[0m\u001b[0m\n",
      "\u001b[0;31mKeyError\u001b[0m: 'Missing required column: event_time'"
     ]
    }
   ],
   "source": [
    "# Set MLflow tracking URI and experiment\n",
    "mlflow.set_tracking_uri(\"http://10.200.2.51:5001\")  # Remote server\n",
    "# Fallback to local tracking if server fails\n",
    "try:\n",
    "    mlflow.set_experiment(\"xgboost-training\")\n",
    "except Exception as e:\n",
    "    print(f\"Failed to connect to remote MLflow server: {e}\")\n",
    "    print(\"Switching to local tracking...\")\n",
    "    mlflow.set_experiment(\"xgboost_training\")\n",
    "\n",
    "# Load and preprocess data\n",
    "data, label_encoders = load_and_preprocess_data()\n",
    "print(\"Data loaded and preprocessed successfully.\")\n",
    "\n",
    "# Train and log model\n",
    "train_model(data)\n",
    "\n",
    "print(\"Pipeline finished successfully!\")"
   ]
  }
 ],
 "metadata": {
  "kernelspec": {
   "display_name": "mlflow-b23975575d08df8585e7719a1e07dab3732c2a46",
   "language": "python",
   "name": "python3"
  },
  "language_info": {
   "codemirror_mode": {
    "name": "ipython",
    "version": 3
   },
   "file_extension": ".py",
   "mimetype": "text/x-python",
   "name": "python",
   "nbconvert_exporter": "python",
   "pygments_lexer": "ipython3",
   "version": "3.7.16"
  }
 },
 "nbformat": 4,
 "nbformat_minor": 5
}
